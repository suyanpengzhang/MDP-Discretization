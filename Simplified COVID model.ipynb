{
 "cells": [
  {
   "cell_type": "code",
   "execution_count": 1,
   "id": "ce3cecc0",
   "metadata": {},
   "outputs": [
    {
     "name": "stdout",
     "output_type": "stream",
     "text": [
      "Intel MKL WARNING: Support of Intel(R) Streaming SIMD Extensions 4.2 (Intel(R) SSE4.2) enabled only processors has been deprecated. Intel oneAPI Math Kernel Library 2025.0 will require Intel(R) Advanced Vector Extensions (Intel(R) AVX) instructions.\n",
      "Intel MKL WARNING: Support of Intel(R) Streaming SIMD Extensions 4.2 (Intel(R) SSE4.2) enabled only processors has been deprecated. Intel oneAPI Math Kernel Library 2025.0 will require Intel(R) Advanced Vector Extensions (Intel(R) AVX) instructions.\n"
     ]
    }
   ],
   "source": [
    "import pandas as pd\n",
    "import numpy as np\n",
    "from scipy.integrate import odeint\n",
    "import matplotlib.pyplot as plt\n",
    "from scipy.optimize import minimize\n",
    "from scipy import optimize\n",
    "import pickle"
   ]
  },
  {
   "cell_type": "code",
   "execution_count": 2,
   "id": "db5510a6",
   "metadata": {},
   "outputs": [],
   "source": [
    "totalpop = [420697,443569,344450,526877,899111,339399,419797,308499,140361,547523,354750,479505,287613,666399,278815,193899,166374,379199,356465,195082,407864,321720,201739,411617,469439,465691]\n"
   ]
  },
  {
   "cell_type": "code",
   "execution_count": 3,
   "id": "e4a78ed6",
   "metadata": {},
   "outputs": [],
   "source": [
    "\n",
    "num_comparts = 26\n",
    "max_eval = 500\n",
    "def deriv2(y, t, N, beta_I, gamma_I):\n",
    "    S = y[0:num_comparts*1]\n",
    "    E = y[num_comparts*1:num_comparts*2]\n",
    "    I = y[num_comparts*3:num_comparts*4]\n",
    "    R = y[num_comparts*6:num_comparts*7]\n",
    "    UR = y[num_comparts*7:num_comparts*8]\n",
    "    for i in range(num_comparts):\n",
    "        globals()['dS%sdt' % i] = -S[i]*np.sum(beta_I(t)[:,i]*(I/N))\n",
    "        globals()['dI%sdt' % i] = S[i]*np.sum(beta_I(t)[:,i]*(I/N)) - (gamma_I(t))*I[i]\n",
    "        globals()['dR%sdt' % i] = gamma_I(t)*I[i]\n",
    "    return dS0dt,dS1dt,dS2dt,dS3dt,dS4dt,dS5dt,dS6dt,dS7dt, dS8dt,dS9dt,dS10dt,dS11dt,dS12dt,dS13dt,dS14dt,dS15dt, dS16dt,dS17dt,dS18dt,dS19dt,dS20dt,dS21dt,dS22dt,dS23dt, dS24dt,dS25dt, dI0dt,dI1dt,dI2dt,dI3dt,dI4dt,dI5dt,dI6dt,dI7dt, dI8dt,dI9dt,dI10dt,dI11dt,dI12dt,dI13dt,dI14dt,dI15dt, dI16dt,dI17dt,dI18dt,dI19dt,dI20dt,dI21dt,dI22dt,dI23dt, dI24dt,dI25dt, dR0dt,dR1dt,dR2dt,dR3dt,dR4dt,dR5dt,dR6dt,dR7dt, dR8dt,dR9dt,dR10dt,dR11dt,dR12dt,dR13dt,dR14dt,dR15dt, dR16dt,dR17dt,dR18dt,dR19dt,dR20dt,dR21dt,dR22dt,dR23dt, dR24dt,dR25dt\n",
    "\n",
    "\n",
    "def Model(s2,gi1):\n",
    "    #N0 = np.array([396357,2228821,1799204,1167286,666081,1048734,1322943,1568950]) # need to change to num_comparts\n",
    "    S0 = saved[0:num_comparts] #Susceptible\n",
    "    I0 = saved[num_comparts*1:num_comparts*2] #exposed\n",
    "    R0 = saved[num_comparts*2:num_comparts*3] #unidentified infectious\n",
    "    N0 =I0 + R0 + S0 \n",
    "    y0 = np.append(np.append(S0,I0),R0)\n",
    "    def gamma_I(t):\n",
    "        return gi1#*0.195+.005#*np.exp(gi2*t)\n",
    "    # transmission rate \n",
    "    def beta_I(t):\n",
    "        xx = flowin.copy()\n",
    "        return (s2)*xx\n",
    "    ret = odeint(deriv2, y0, t, args=(N0,beta_I, gamma_I))\n",
    "    dS0dt,dS1dt,dS2dt,dS3dt,dS4dt,dS5dt,dS6dt,dS7dt, dS8dt,dS9dt,dS10dt,dS11dt,dS12dt,dS13dt,dS14dt,dS15dt, dS16dt,dS17dt,dS18dt,dS19dt,dS20dt,dS21dt,dS22dt,dS23dt, dS24dt,dS25dt,dI0dt,dI1dt,dI2dt,dI3dt,dI4dt,dI5dt,dI6dt,dI7dt, dI8dt,dI9dt,dI10dt,dI11dt,dI12dt,dI13dt,dI14dt,dI15dt, dI16dt,dI17dt,dI18dt,dI19dt,dI20dt,dI21dt,dI22dt,dI23dt, dI24dt,dI25dt,dR0dt,dR1dt,dR2dt,dR3dt,dR4dt,dR5dt,dR6dt,dR7dt, dR8dt,dR9dt,dR10dt,dR11dt,dR12dt,dR13dt,dR14dt,dR15dt, dR16dt,dR17dt,dR18dt,dR19dt,dR20dt,dR21dt,dR22dt,dR23dt, dR24dt,dR25dt = ret.T\n",
    "    return ret.T"
   ]
  },
  {
   "cell_type": "code",
   "execution_count": 4,
   "id": "c28e3bf9",
   "metadata": {},
   "outputs": [],
   "source": [
    "def runSIR(beta,gamma,T,initial):\n",
    "    S = np.zeros((num_comparts,T))\n",
    "    I = np.zeros((num_comparts,T))\n",
    "    R = np.zeros((num_comparts,T))\n",
    "    for t in range(T):\n",
    "        S[:,t] = initial[0:num_comparts]\n",
    "        I[:,t] = initial[num_comparts:num_comparts*2]\n",
    "        R[:,t] = initial[num_comparts*2:num_comparts*3]\n",
    "        _help = np.zeros(3*num_comparts)\n",
    "        for i in range(num_comparts):\n",
    "            _help[i] = initial[i]\n",
    "            for j in range(num_comparts):\n",
    "                _help[i] -= beta[j,i]*(initial[i])*initial[num_comparts+j]/totalpop[j]\n",
    "            #_help[i] = max(_help[i],0)\n",
    "            _help[num_comparts + i] = initial[num_comparts + i]-gamma*initial[num_comparts + i]\n",
    "            for j in range(num_comparts):\n",
    "                _help[num_comparts + i] += (beta[j,i]*(initial[i])*initial[num_comparts+j]/totalpop[j])\n",
    "            _help[2*num_comparts + i] = initial[2*num_comparts + i]+gamma*initial[num_comparts + i]\n",
    "        initial = _help\n",
    "    return S,I,R\n",
    "#need to set lower & upper bound"
   ]
  },
  {
   "cell_type": "code",
   "execution_count": 5,
   "id": "3500bc02",
   "metadata": {},
   "outputs": [],
   "source": [
    "#flowin = np.ones((num_comparts,num_comparts))\n",
    "#ffdata = pd.read_csv('covid-data/mean_df_20210224_20210424.csv')\n",
    "#flowin = ffdata.values[0:-1,1:-1]\n",
    "#flowin =np.array([np.array([float(i) for i in j ])for j in flowin])\n",
    "#flowin = flowin/500\n",
    "flowin1 = np.ones((num_comparts,num_comparts))\n",
    "ffdata1 = pd.read_csv('covid-data/mean_df_20200301_20200414.csv')\n",
    "flowin1 = ffdata1.values[0:-1,1:-1]\n",
    "flowin1 =np.array([np.array([float(i) for i in j ])for j in flowin1])\n",
    "flowin1 = flowin1/1200\n",
    "flowin = flowin1/0.7"
   ]
  },
  {
   "cell_type": "code",
   "execution_count": 6,
   "id": "0ef67cc8",
   "metadata": {},
   "outputs": [
    {
     "name": "stderr",
     "output_type": "stream",
     "text": [
      "/var/folders/b3/kkdtnh4d4gjgrk45d_yrf4100000gn/T/ipykernel_37717/967228251.py:6: DeprecationWarning: Please use `OptimizeResult` from the `scipy.optimize` namespace, the `scipy.optimize.optimize` namespace is deprecated.\n",
      "  results = pickle.load( open( \"covid-data/resultscaserateincluded_post.p\", \"rb\" ) )\n"
     ]
    }
   ],
   "source": [
    "N0=np.transpose(totalpop)\n",
    "I0 = np.ones(num_comparts)\n",
    "R0 = np.zeros(num_comparts)\n",
    "S0 = N0 - I0 - R0\n",
    "initial = np.append(np.append(S0,I0),R0)\n",
    "results = pickle.load( open( \"covid-data/resultscaserateincluded_post.p\", \"rb\" ) )\n",
    "[s2,s_u2,gi1,gu1,gh1,eta_m,mi1,mu1,mh1,theta_eta,di1,du1,nu1,nuu1,nuuu1,eff1] = results['int1'].x\n",
    "beta = s2*flowin*7\n",
    "beta1 = s2*flowin1*7\n",
    "gamma = gi1*7"
   ]
  },
  {
   "cell_type": "code",
   "execution_count": 18,
   "id": "f0f05ecb",
   "metadata": {},
   "outputs": [],
   "source": [
    "T=40\n",
    "S,I,R = runSIR(beta,gamma,T,initial)\n",
    "SS = np.sum(S,axis=0)\n",
    "II = np.sum(I,axis=0)\n",
    "RR = np.sum(R,axis=0)\n",
    "N0=np.transpose(totalpop)\n",
    "I0 = np.ones(num_comparts)\n",
    "R0 = np.zeros(num_comparts)\n",
    "S0 = N0 - I0 - R0\n",
    "initial = np.append(np.append(S0,I0),R0)\n",
    "S_,I_,R_ = runSIR(beta1,gamma,T,initial)\n",
    "SS_ = np.sum(S_,axis=0)\n",
    "II_ = np.sum(I_,axis=0)\n",
    "RR_ = np.sum(R_,axis=0)\n",
    "t = np.linspace(0, T-1, T)"
   ]
  },
  {
   "cell_type": "code",
   "execution_count": 19,
   "id": "29f5dc58",
   "metadata": {},
   "outputs": [
    {
     "data": {
      "text/plain": [
       "(40,)"
      ]
     },
     "execution_count": 19,
     "metadata": {},
     "output_type": "execute_result"
    }
   ],
   "source": [
    "np.sum(S,axis=0).shape"
   ]
  },
  {
   "cell_type": "code",
   "execution_count": 20,
   "id": "c6b1ffcc",
   "metadata": {},
   "outputs": [
    {
     "data": {
      "text/plain": [
       "[<matplotlib.lines.Line2D at 0x7f915816a3a0>]"
      ]
     },
     "execution_count": 20,
     "metadata": {},
     "output_type": "execute_result"
    },
    {
     "data": {
      "image/png": "[encoded data removed]",
      "text/plain": [
       "<Figure size 640x480 with 1 Axes>"
      ]
     },
     "metadata": {},
     "output_type": "display_data"
    }
   ],
   "source": [
    "plt.plot(t,SS,color='red',linestyle='dashed')\n",
    "plt.plot(t,II,color='green',linestyle='dashed')\n",
    "plt.plot(t,RR,color='black',linestyle='dashed')\n",
    "plt.plot(t,SS_,color='red')\n",
    "plt.plot(t,II_,color='green')\n",
    "plt.plot(t,RR_,color='black')"
   ]
  },
  {
   "cell_type": "code",
   "execution_count": 10,
   "id": "9934c2cd",
   "metadata": {},
   "outputs": [
    {
     "data": {
      "text/plain": [
       "array([0.00000000e+00, 1.83265711e+01, 4.34632476e+01, 9.11006898e+01,\n",
       "       1.93458867e+02, 4.25480851e+02, 9.65757137e+02, 2.24372368e+03,\n",
       "       5.29404898e+03, 1.26102669e+04, 3.01747514e+04, 7.21496097e+04,\n",
       "       1.70901963e+05, 3.94003378e+05, 8.51373172e+05, 1.60785816e+06,\n",
       "       2.47077492e+06, 3.22683135e+06, 3.86657296e+06, 4.37053582e+06,\n",
       "       4.72669758e+06, 4.95761670e+06, 5.09965872e+06, 5.18452624e+06,\n",
       "       5.23448046e+06, 5.26368481e+06, 5.28072004e+06, 5.29065873e+06,\n",
       "       5.29646510e+06, 5.29986352e+06, 5.30185639e+06, 5.30302712e+06,\n",
       "       5.30371595e+06, 5.30412179e+06, 5.30436116e+06, 5.30450248e+06,\n",
       "       5.30458596e+06, 5.30463531e+06, 5.30466449e+06, 5.30468176e+06,\n",
       "       5.30469198e+06, 5.30469802e+06, 5.30470160e+06, 5.30470372e+06,\n",
       "       5.30470498e+06, 5.30470572e+06, 5.30470616e+06, 5.30470642e+06,\n",
       "       5.30470658e+06, 5.30470667e+06, 5.30470672e+06, 5.30470675e+06,\n",
       "       5.30470677e+06, 5.30470678e+06, 5.30470679e+06, 5.30470679e+06,\n",
       "       5.30470680e+06, 5.30470680e+06, 5.30470680e+06, 5.30470680e+06,\n",
       "       5.30470680e+06, 5.30470680e+06, 5.30470680e+06, 5.30470680e+06,\n",
       "       5.30470680e+06, 5.30470680e+06, 5.30470680e+06, 5.30470680e+06,\n",
       "       5.30470680e+06, 5.30470680e+06, 5.30470680e+06, 5.30470680e+06,\n",
       "       5.30470680e+06, 5.30470680e+06, 5.30470680e+06, 5.30470680e+06,\n",
       "       5.30470680e+06, 5.30470680e+06, 5.30470680e+06, 5.30470680e+06,\n",
       "       5.30470680e+06, 5.30470680e+06, 5.30470680e+06, 5.30470680e+06,\n",
       "       5.30470680e+06, 5.30470680e+06, 5.30470680e+06, 5.30470680e+06,\n",
       "       5.30470680e+06, 5.30470680e+06, 5.30470680e+06, 5.30470680e+06,\n",
       "       5.30470680e+06, 5.30470680e+06, 5.30470680e+06, 5.30470680e+06,\n",
       "       5.30470680e+06, 5.30470680e+06, 5.30470680e+06, 5.30470680e+06])"
      ]
     },
     "execution_count": 10,
     "metadata": {},
     "output_type": "execute_result"
    }
   ],
   "source": [
    "RR"
   ]
  },
  {
   "cell_type": "code",
   "execution_count": 11,
   "id": "cd4f07a0",
   "metadata": {},
   "outputs": [
    {
     "data": {
      "text/plain": [
       "array([1., 1., 1., 1., 1., 1., 1., 1., 1., 1., 1., 1., 1., 1., 1., 1., 1.,\n",
       "       1., 1., 1., 1., 1., 1., 1., 1., 1.])"
      ]
     },
     "execution_count": 11,
     "metadata": {},
     "output_type": "execute_result"
    }
   ],
   "source": [
    "I0"
   ]
  },
  {
   "cell_type": "code",
   "execution_count": 12,
   "id": "9b9874e8",
   "metadata": {},
   "outputs": [
    {
     "data": {
      "text/plain": [
       "17.259213950778182"
      ]
     },
     "execution_count": 12,
     "metadata": {},
     "output_type": "execute_result"
    }
   ],
   "source": [
    "np.sum(beta1)"
   ]
  },
  {
   "cell_type": "code",
   "execution_count": 13,
   "id": "597f5cdb",
   "metadata": {},
   "outputs": [
    {
     "data": {
      "text/plain": [
       "0.3000000000000001"
      ]
     },
     "execution_count": 13,
     "metadata": {},
     "output_type": "execute_result"
    }
   ],
   "source": [
    "np.sum(flowin-flowin1)/np.sum(flowin)"
   ]
  },
  {
   "cell_type": "code",
   "execution_count": 14,
   "id": "5c3e0ca3",
   "metadata": {},
   "outputs": [
    {
     "data": {
      "text/plain": [
       "3353.4183296130955"
      ]
     },
     "execution_count": 14,
     "metadata": {},
     "output_type": "execute_result"
    }
   ],
   "source": [
    "np.sum(flowin)"
   ]
  },
  {
   "cell_type": "code",
   "execution_count": 15,
   "id": "be81ff4f",
   "metadata": {},
   "outputs": [
    {
     "data": {
      "text/plain": [
       "2347.3928307291667"
      ]
     },
     "execution_count": 15,
     "metadata": {},
     "output_type": "execute_result"
    }
   ],
   "source": [
    "np.sum(flowin1)"
   ]
  },
  {
   "cell_type": "code",
   "execution_count": 16,
   "id": "868d4ff1",
   "metadata": {},
   "outputs": [
    {
     "data": {
      "text/plain": [
       "array([0.00000000e+00, 1.83265711e+01, 4.34632476e+01, 9.11006898e+01,\n",
       "       1.93458867e+02, 4.25480851e+02, 9.65757137e+02, 2.24372368e+03,\n",
       "       5.29404898e+03, 1.26102669e+04, 3.01747514e+04, 7.21496097e+04,\n",
       "       1.70901963e+05, 3.94003378e+05, 8.51373172e+05, 1.60785816e+06,\n",
       "       2.47077492e+06, 3.22683135e+06, 3.86657296e+06, 4.37053582e+06,\n",
       "       4.72669758e+06, 4.95761670e+06, 5.09965872e+06, 5.18452624e+06,\n",
       "       5.23448046e+06, 5.26368481e+06, 5.28072004e+06, 5.29065873e+06,\n",
       "       5.29646510e+06, 5.29986352e+06, 5.30185639e+06, 5.30302712e+06,\n",
       "       5.30371595e+06, 5.30412179e+06, 5.30436116e+06, 5.30450248e+06,\n",
       "       5.30458596e+06, 5.30463531e+06, 5.30466449e+06, 5.30468176e+06,\n",
       "       5.30469198e+06, 5.30469802e+06, 5.30470160e+06, 5.30470372e+06,\n",
       "       5.30470498e+06, 5.30470572e+06, 5.30470616e+06, 5.30470642e+06,\n",
       "       5.30470658e+06, 5.30470667e+06, 5.30470672e+06, 5.30470675e+06,\n",
       "       5.30470677e+06, 5.30470678e+06, 5.30470679e+06, 5.30470679e+06,\n",
       "       5.30470680e+06, 5.30470680e+06, 5.30470680e+06, 5.30470680e+06,\n",
       "       5.30470680e+06, 5.30470680e+06, 5.30470680e+06, 5.30470680e+06,\n",
       "       5.30470680e+06, 5.30470680e+06, 5.30470680e+06, 5.30470680e+06,\n",
       "       5.30470680e+06, 5.30470680e+06, 5.30470680e+06, 5.30470680e+06,\n",
       "       5.30470680e+06, 5.30470680e+06, 5.30470680e+06, 5.30470680e+06,\n",
       "       5.30470680e+06, 5.30470680e+06, 5.30470680e+06, 5.30470680e+06,\n",
       "       5.30470680e+06, 5.30470680e+06, 5.30470680e+06, 5.30470680e+06,\n",
       "       5.30470680e+06, 5.30470680e+06, 5.30470680e+06, 5.30470680e+06,\n",
       "       5.30470680e+06, 5.30470680e+06, 5.30470680e+06, 5.30470680e+06,\n",
       "       5.30470680e+06, 5.30470680e+06, 5.30470680e+06, 5.30470680e+06,\n",
       "       5.30470680e+06, 5.30470680e+06, 5.30470680e+06, 5.30470680e+06])"
      ]
     },
     "execution_count": 16,
     "metadata": {},
     "output_type": "execute_result"
    }
   ],
   "source": [
    "RR"
   ]
  },
  {
   "cell_type": "code",
   "execution_count": 17,
   "id": "40d4c81e",
   "metadata": {},
   "outputs": [
    {
     "data": {
      "text/plain": [
       "array([0.00000000e+00, 1.83265711e+01, 3.75448713e+01, 6.41467391e+01,\n",
       "       1.05882571e+02, 1.75174964e+02, 2.93572032e+02, 4.99279369e+02,\n",
       "       8.60329374e+02, 1.49811056e+03, 2.62928320e+03, 4.64041038e+03,\n",
       "       8.22018485e+03, 1.45918273e+04, 2.59153642e+04, 4.59645101e+04,\n",
       "       8.12046888e+04, 1.42322910e+05, 2.45838794e+05, 4.14145899e+05,\n",
       "       6.69896942e+05, 1.01992257e+06, 1.43519162e+06, 1.85612803e+06,\n",
       "       2.23246866e+06, 2.54656771e+06, 2.80117867e+06, 3.00401101e+06,\n",
       "       3.16239866e+06, 3.28316810e+06, 3.37306160e+06, 3.43856545e+06,\n",
       "       3.48548764e+06, 3.51866739e+06, 3.54191067e+06, 3.55808638e+06,\n",
       "       3.56929298e+06, 3.57703366e+06, 3.58236992e+06, 3.58604413e+06,\n",
       "       3.58857215e+06, 3.59031088e+06, 3.59150655e+06, 3.59232878e+06,\n",
       "       3.59289426e+06, 3.59328323e+06, 3.59355082e+06, 3.59373496e+06,\n",
       "       3.59386170e+06, 3.59394895e+06, 3.59400903e+06, 3.59405041e+06,\n",
       "       3.59407892e+06, 3.59409856e+06, 3.59411209e+06, 3.59412142e+06,\n",
       "       3.59412785e+06, 3.59413228e+06, 3.59413534e+06, 3.59413745e+06,\n",
       "       3.59413890e+06, 3.59413991e+06, 3.59414060e+06, 3.59414108e+06,\n",
       "       3.59414141e+06, 3.59414163e+06, 3.59414179e+06, 3.59414190e+06,\n",
       "       3.59414197e+06, 3.59414203e+06, 3.59414206e+06, 3.59414209e+06,\n",
       "       3.59414210e+06, 3.59414212e+06, 3.59414212e+06, 3.59414213e+06,\n",
       "       3.59414213e+06, 3.59414214e+06, 3.59414214e+06, 3.59414214e+06,\n",
       "       3.59414214e+06, 3.59414214e+06, 3.59414214e+06, 3.59414214e+06,\n",
       "       3.59414214e+06, 3.59414214e+06, 3.59414214e+06, 3.59414214e+06,\n",
       "       3.59414214e+06, 3.59414214e+06, 3.59414214e+06, 3.59414214e+06,\n",
       "       3.59414214e+06, 3.59414214e+06, 3.59414214e+06, 3.59414214e+06,\n",
       "       3.59414214e+06, 3.59414214e+06, 3.59414214e+06, 3.59414214e+06])"
      ]
     },
     "execution_count": 17,
     "metadata": {},
     "output_type": "execute_result"
    }
   ],
   "source": [
    "RR_"
   ]
  },
  {
   "cell_type": "code",
   "execution_count": 21,
   "id": "086bf234",
   "metadata": {},
   "outputs": [
    {
     "data": {
      "text/plain": [
       "0.7048681176153797"
      ]
     },
     "execution_count": 21,
     "metadata": {},
     "output_type": "execute_result"
    }
   ],
   "source": [
    "gamma"
   ]
  },
  {
   "cell_type": "code",
   "execution_count": 24,
   "id": "2098621b",
   "metadata": {},
   "outputs": [],
   "source": [
    "import csv\n",
    "file_path = 'covid-data/beta.csv'\n",
    "\n",
    "# Save the array to a CSV file\n",
    "with open(file_path, 'w', newline='') as csvfile:\n",
    "    writer = csv.writer(csvfile)\n",
    "    writer.writerows(beta)"
   ]
  },
  {
   "cell_type": "code",
   "execution_count": null,
   "id": "1c817d07",
   "metadata": {},
   "outputs": [],
   "source": []
  }
 ],
 "metadata": {
  "kernelspec": {
   "display_name": "Python 3 (ipykernel)",
   "language": "python",
   "name": "python3"
  },
  "language_info": {
   "codemirror_mode": {
    "name": "ipython",
    "version": 3
   },
   "file_extension": ".py",
   "mimetype": "text/x-python",
   "name": "python",
   "nbconvert_exporter": "python",
   "pygments_lexer": "ipython3",
   "version": "3.9.13"
  },
  "varInspector": {
   "cols": {
    "lenName": 16,
    "lenType": 16,
    "lenVar": 40
   },
   "kernels_config": {
    "python": {
     "delete_cmd_postfix": "",
     "delete_cmd_prefix": "del ",
     "library": "var_list.py",
     "varRefreshCmd": "print(var_dic_list())"
    },
    "r": {
     "delete_cmd_postfix": ") ",
     "delete_cmd_prefix": "rm(",
     "library": "var_list.r",
     "varRefreshCmd": "cat(var_dic_list()) "
    }
   },
   "types_to_exclude": [
    "module",
    "function",
    "builtin_function_or_method",
    "instance",
    "_Feature"
   ],
   "window_display": false
  }
 },
 "nbformat": 4,
 "nbformat_minor": 5
}
